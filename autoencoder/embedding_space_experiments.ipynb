{
 "cells": [
  {
   "cell_type": "code",
   "execution_count": 44,
   "metadata": {
    "collapsed": false,
    "scrolled": true
   },
   "outputs": [],
   "source": [
    "%matplotlib inline\n",
    "\n",
    "import torch\n",
    "from torch.autograd import Variable\n",
    "import numpy as np\n",
    "import pickle\n",
    "import matplotlib.pyplot as plt\n",
    "from src.dataloaders import MHDataLoader\n",
    "from src.models import SimpleEncoder, SimpleDecoder, ConvEncoder, ConvDecoder\n",
    "from src.utils.reverse_pianoroll import piano_roll_to_pretty_midi as pr2pm"
   ]
  },
  {
   "cell_type": "code",
   "execution_count": 2,
   "metadata": {
    "collapsed": false
   },
   "outputs": [],
   "source": [
    "MIDI_LOW = 48\n",
    "MIDI_HIGH = 84\n",
    "DATASET_SIZE = 1000\n",
    "BATCH_SIZE = 20\n",
    "\n",
    "dataset = pickle.load(open('../data/mh-midi-data.pickle', 'rb'))\n",
    "######## divide into train, validation, and test ########\n",
    "# based on the mean and standard deviation of non zero entries in the data, I've\n",
    "# found that the most populous, and thus best range of notes to take is from\n",
    "# 48 to 84 (C2 - C5); this is 3 octaves\n",
    "dataset = dataset[:DATASET_SIZE, :, MIDI_LOW:MIDI_HIGH, :]\n",
    "\n",
    "train = dataset[:int(DATASET_SIZE*0.8)]\n",
    "train_dataloader = MHDataLoader(train)\n",
    "batched_train = train_dataloader.get_batched_data(BATCH_SIZE)\n",
    "\n",
    "valid = dataset[int(DATASET_SIZE*0.8):int(DATASET_SIZE*0.9)]\n",
    "valid_dataloader = MHDataLoader(valid)\n",
    "batched_valid = valid_dataloader.get_batched_data(BATCH_SIZE)\n",
    "\n",
    "test = dataset[int(DATASET_SIZE*0.9):]\n",
    "test_dataloader = MHDataLoader(test)\n",
    "batched_test = test_dataloader.get_batched_data(BATCH_SIZE)\n",
    "##############################"
   ]
  },
  {
   "cell_type": "code",
   "execution_count": 86,
   "metadata": {
    "collapsed": false
   },
   "outputs": [],
   "source": [
    "input_size = train[0].shape\n",
    "# enc_input_dim = np.prod(input_size)\n",
    "# dec_input_dim = enc_input_dim/8\n",
    "# encoder = SimpleEncoder(enc_input_dim)\n",
    "# decoder = SimpleDecoder(dec_input_dim, apply_sigmoid=True)\n",
    "enc_channels = [8, 16]\n",
    "dec_channels = enc_channels[::-1]\n",
    "encoder = ConvEncoder(input_size, enc_channels)\n",
    "decoder = ConvDecoder(encoder.output_dim, dec_channels, input_size, apply_sigmoid=True)\n",
    "\n",
    "param_dict = torch.load('runs/conv_wbce_1000n_700ep_e-4lr/model_state.pt')\n",
    "encoder.load_state_dict(param_dict['encoder'])\n",
    "decoder.load_state_dict(param_dict['decoder'])"
   ]
  },
  {
   "cell_type": "code",
   "execution_count": 91,
   "metadata": {
    "collapsed": true
   },
   "outputs": [],
   "source": [
    "song = valid[:8]\n",
    "song_array = np.concatenate(song[:, 0, :, :], axis=1)\n",
    "song_var = Variable(torch.FloatTensor(song))\n",
    "decoded_song_var = decoder(encoder(song_var))\n",
    "decoded_song = decoded_song_var.view(song.shape).data.numpy()\n",
    "decoded_song_array = np.concatenate(decoded_song[:, 0, :, :], axis=1)"
   ]
  },
  {
   "cell_type": "code",
   "execution_count": 92,
   "metadata": {
    "collapsed": false
   },
   "outputs": [
    {
     "data": {
      "image/png": "[encoded data removed]",
      "text/plain": [
       "<matplotlib.figure.Figure at 0x10c9ce6d0>"
      ]
     },
     "metadata": {},
     "output_type": "display_data"
    }
   ],
   "source": [
    "fig = plt.figure()\n",
    "top = fig.add_subplot(2, 1, 1)\n",
    "top.set_title(\"Input\")\n",
    "top.imshow(song_array, aspect='auto')\n",
    "bottom = fig.add_subplot(2, 1, 2)\n",
    "bottom.set_title(\"Output\")\n",
    "bottom.imshow(decoded_song_array, aspect='auto')\n",
    "fig.subplots_adjust(top=0.95)\n",
    "fig.tight_layout()\n",
    "plt.show()"
   ]
  },
  {
   "cell_type": "markdown",
   "metadata": {},
   "source": [
    "Lets see what the distance is between two consectutive (and therefore, presumably musically similar) clips are in a training song. "
   ]
  },
  {
   "cell_type": "code",
   "execution_count": 94,
   "metadata": {
    "collapsed": false
   },
   "outputs": [
    {
     "data": {
      "image/png": "[encoded data removed]",
      "text/plain": [
       "<matplotlib.figure.Figure at 0x11b07de50>"
      ]
     },
     "metadata": {},
     "output_type": "display_data"
    },
    {
     "data": {
      "image/png": "[encoded data removed]",
      "text/plain": [
       "<matplotlib.figure.Figure at 0x12c80e550>"
      ]
     },
     "metadata": {},
     "output_type": "display_data"
    },
    {
     "name": "stdout",
     "output_type": "stream",
     "text": [
      "torch.Size([1, 192])\n",
      "torch.Size([1, 192])\n"
     ]
    },
    {
     "data": {
      "text/plain": [
       "Variable containing:\n",
       " 106.0270\n",
       "[torch.FloatTensor of size 1]"
      ]
     },
     "execution_count": 94,
     "metadata": {},
     "output_type": "execute_result"
    }
   ],
   "source": [
    "one = np.copy(train[:1])\n",
    "plt.imshow(one[0, 0]) # first channel\n",
    "plt.show()\n",
    "\n",
    "two = np.copy(train[1:2])\n",
    "plt.imshow(two[0, 0]) # first channel \n",
    "plt.show()\n",
    "\n",
    "one_encoded = encoder(Variable(torch.FloatTensor(one)))\n",
    "two_encoded = encoder(Variable(torch.FloatTensor(two)))\n",
    "print one_encoded.size()\n",
    "print two_encoded.size()\n",
    "\n",
    "def euclid_dist(one, two):\n",
    "    return torch.sqrt(torch.sum(torch.pow(one - two, 2)))\n",
    "\n",
    "euclid_dist(one_encoded, two_encoded)"
   ]
  },
  {
   "cell_type": "markdown",
   "metadata": {},
   "source": [
    "What about when one note is different? (in this case, by a whole step)"
   ]
  },
  {
   "cell_type": "code",
   "execution_count": 95,
   "metadata": {
    "collapsed": false
   },
   "outputs": [
    {
     "data": {
      "image/png": "[encoded data removed]",
      "text/plain": [
       "<matplotlib.figure.Figure at 0x120776390>"
      ]
     },
     "metadata": {},
     "output_type": "display_data"
    },
    {
     "data": {
      "image/png": "[encoded data removed]",
      "text/plain": [
       "<matplotlib.figure.Figure at 0x11b106690>"
      ]
     },
     "metadata": {},
     "output_type": "display_data"
    },
    {
     "data": {
      "text/plain": [
       "Variable containing:\n",
       " 53.3961\n",
       "[torch.FloatTensor of size 1]"
      ]
     },
     "execution_count": 95,
     "metadata": {},
     "output_type": "execute_result"
    }
   ],
   "source": [
    "one = np.copy(train[:1])\n",
    "plt.imshow(one[0, 0]) # first channel\n",
    "plt.show()\n",
    "\n",
    "two = np.copy(train[:1])\n",
    "two[:, :, 21, 56:75] = 0 # found these values by guessing\n",
    "two[:, :, 23, 56:75] = 1\n",
    "plt.imshow(two[0, 0]) # first channel \n",
    "plt.show()\n",
    "\n",
    "one_encoded = encoder(Variable(torch.FloatTensor(one)))\n",
    "two_encoded = encoder(Variable(torch.FloatTensor(two)))\n",
    "euclid_dist(one_encoded, two_encoded)"
   ]
  },
  {
   "cell_type": "markdown",
   "metadata": {},
   "source": [
    "what about two that are very different?"
   ]
  },
  {
   "cell_type": "code",
   "execution_count": 96,
   "metadata": {
    "collapsed": false
   },
   "outputs": [
    {
     "data": {
      "image/png": "[encoded data removed]",
      "text/plain": [
       "<matplotlib.figure.Figure at 0x11b07d9d0>"
      ]
     },
     "metadata": {},
     "output_type": "display_data"
    },
    {
     "data": {
      "image/png": "[encoded data removed]",
      "text/plain": [
       "<matplotlib.figure.Figure at 0x1239e0610>"
      ]
     },
     "metadata": {},
     "output_type": "display_data"
    },
    {
     "data": {
      "text/plain": [
       "Variable containing:\n",
       " 155.1919\n",
       "[torch.FloatTensor of size 1]"
      ]
     },
     "execution_count": 96,
     "metadata": {},
     "output_type": "execute_result"
    }
   ],
   "source": [
    "one = np.copy(train[:1])\n",
    "plt.imshow(one[0, 0]) # first channel\n",
    "plt.show()\n",
    "\n",
    "two = np.copy(train[567:568])\n",
    "plt.imshow(two[0, 0]) # first channel \n",
    "plt.show()\n",
    "\n",
    "one_encoded = encoder(Variable(torch.FloatTensor(one)))\n",
    "two_encoded = encoder(Variable(torch.FloatTensor(two)))\n",
    "euclid_dist(one_encoded, two_encoded)"
   ]
  },
  {
   "cell_type": "markdown",
   "metadata": {},
   "source": [
    "Interpolation"
   ]
  },
  {
   "cell_type": "code",
   "execution_count": 97,
   "metadata": {
    "collapsed": false
   },
   "outputs": [
    {
     "data": {
      "image/png": "[encoded data removed]",
      "text/plain": [
       "<matplotlib.figure.Figure at 0x12c80e6d0>"
      ]
     },
     "metadata": {},
     "output_type": "display_data"
    },
    {
     "data": {
      "image/png": "[encoded data removed]",
      "text/plain": [
       "<matplotlib.figure.Figure at 0x1239e0d10>"
      ]
     },
     "metadata": {},
     "output_type": "display_data"
    },
    {
     "data": {
      "image/png": "[encoded data removed]",
      "text/plain": [
       "<matplotlib.figure.Figure at 0x11a6dbd10>"
      ]
     },
     "metadata": {},
     "output_type": "display_data"
    }
   ],
   "source": [
    "one = np.copy(train[1:2])\n",
    "plt.imshow(one[0, 0]) # first channel\n",
    "plt.show()\n",
    "\n",
    "two = np.copy(train[3:4])\n",
    "plt.imshow(two[0, 0]) # first channel \n",
    "plt.show()\n",
    "\n",
    "one_encoded = encoder(Variable(torch.FloatTensor(one)))\n",
    "two_encoded = encoder(Variable(torch.FloatTensor(two)))\n",
    "\n",
    "bisection = (one_encoded + two_encoded)*0.5\n",
    "bisdec = decoder(bisection)\n",
    "bisdec = bisdec.view(one.shape).data.numpy()\n",
    "# bisdec = np.round(bisdec)\n",
    "plt.imshow(bisdec[0, 0])\n",
    "plt.show()\n"
   ]
  },
  {
   "cell_type": "markdown",
   "metadata": {},
   "source": [
    "Generating Music by Sampling from the Embedding Space"
   ]
  },
  {
   "cell_type": "code",
   "execution_count": 98,
   "metadata": {
    "collapsed": false
   },
   "outputs": [],
   "source": [
    "encoded_train = encoder(Variable(torch.FloatTensor(train))).data.numpy()\n",
    "mean = np.mean(encoded_train, axis=0)\n",
    "cov = np.cov(encoded_train, rowvar=False)"
   ]
  },
  {
   "cell_type": "code",
   "execution_count": 102,
   "metadata": {
    "collapsed": false
   },
   "outputs": [
    {
     "data": {
      "image/png": "[encoded data removed]",
      "text/plain": [
       "<matplotlib.figure.Figure at 0x123adb290>"
      ]
     },
     "metadata": {},
     "output_type": "display_data"
    },
    {
     "data": {
      "image/png": "[encoded data removed]",
      "text/plain": [
       "<matplotlib.figure.Figure at 0x123b52150>"
      ]
     },
     "metadata": {},
     "output_type": "display_data"
    }
   ],
   "source": [
    "samples = np.random.multivariate_normal(mean, cov, 16)\n",
    "decoded_samples = decoder(Variable(torch.FloatTensor(samples)))\n",
    "decoded_song = decoded_samples.view(train[:16].shape).data.numpy()\n",
    "decoded_song_array = np.concatenate(decoded_song[:, 0, :, :], axis=1)\n",
    "\n",
    "plt.imshow(decoded_song_array, aspect=\"auto\")\n",
    "plt.show()\n",
    "\n",
    "normalized_dsa = np.round(decoded_song_array/np.max(decoded_song_array))\n",
    "plt.imshow(normalized_dsa, aspect=\"auto\")\n",
    "plt.show()\n",
    "\n",
    "midi_array = np.zeros((128, 100*16))\n",
    "midi_array[MIDI_LOW:MIDI_HIGH] = np.round(decoded_song_array)\n",
    "outmidi = pr2pm(midi_array.round())\n",
    "outmidi.write('generated_midi.mid')"
   ]
  },
  {
   "cell_type": "code",
   "execution_count": null,
   "metadata": {
    "collapsed": true
   },
   "outputs": [],
   "source": []
  }
 ],
 "metadata": {
  "kernelspec": {
   "display_name": "Python 2",
   "language": "python",
   "name": "python2"
  },
  "language_info": {
   "codemirror_mode": {
    "name": "ipython",
    "version": 2
   },
   "file_extension": ".py",
   "mimetype": "text/x-python",
   "name": "python",
   "nbconvert_exporter": "python",
   "pygments_lexer": "ipython2",
   "version": "2.7.13"
  }
 },
 "nbformat": 4,
 "nbformat_minor": 0
}
