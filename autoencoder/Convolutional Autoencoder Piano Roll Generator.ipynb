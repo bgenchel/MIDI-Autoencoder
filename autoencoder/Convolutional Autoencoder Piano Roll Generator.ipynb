{
 "cells": [
  {
   "cell_type": "code",
   "execution_count": 1,
   "metadata": {
    "collapsed": true
   },
   "outputs": [],
   "source": [
    "%matplotlib inline\n",
    "\n",
    "import torch\n",
    "from torch.autograd import Variable\n",
    "import numpy as np\n",
    "import pickle\n",
    "import matplotlib.pyplot as plt\n",
    "from src.dataloaders import MHDataLoader\n",
    "from src.models import SimpleEncoder, SimpleDecoder, ConvEncoder, ConvDecoder\n",
    "from src.utils.reverse_pianoroll import piano_roll_to_pretty_midi as pr2pm"
   ]
  },
  {
   "cell_type": "code",
   "execution_count": 2,
   "metadata": {
    "collapsed": true
   },
   "outputs": [],
   "source": [
    "MIDI_LOW = 48\n",
    "MIDI_HIGH = 84\n",
    "DATASET_SIZE = 1000\n",
    "BATCH_SIZE = 20\n",
    "\n",
    "dataset = pickle.load(open('../data/mh-midi-data.pickle', 'rb'))\n",
    "######## divide into train, validation, and test ########\n",
    "# based on the mean and standard deviation of non zero entries in the data, I've\n",
    "# found that the most populous, and thus best range of notes to take is from\n",
    "# 48 to 84 (C2 - C5); this is 3 octaves\n",
    "dataset = dataset[:DATASET_SIZE, :, MIDI_LOW:MIDI_HIGH, :]\n",
    "\n",
    "train = dataset[:int(DATASET_SIZE*0.8)]\n",
    "train_dataloader = MHDataLoader(train)\n",
    "batched_train = train_dataloader.get_batched_data(BATCH_SIZE)\n",
    "\n",
    "valid = dataset[int(DATASET_SIZE*0.8):int(DATASET_SIZE*0.9)]\n",
    "valid_dataloader = MHDataLoader(valid)\n",
    "batched_valid = valid_dataloader.get_batched_data(BATCH_SIZE)\n",
    "\n",
    "test = dataset[int(DATASET_SIZE*0.9):]\n",
    "test_dataloader = MHDataLoader(test)\n",
    "batched_test = test_dataloader.get_batched_data(BATCH_SIZE)\n",
    "##############################"
   ]
  },
  {
   "cell_type": "code",
   "execution_count": 3,
   "metadata": {
    "collapsed": false
   },
   "outputs": [
    {
     "name": "stdout",
     "output_type": "stream",
     "text": [
      "192\n"
     ]
    }
   ],
   "source": [
    "input_size = train[0].shape\n",
    "# enc_input_dim = np.prod(input_size)\n",
    "# dec_input_dim = enc_input_dim/8\n",
    "# encoder = SimpleEncoder(enc_input_dim)\n",
    "# decoder = SimpleDecoder(dec_input_dim, apply_sigmoid=True)\n",
    "enc_channels = [8, 16]\n",
    "dec_channels = enc_channels[::-1]\n",
    "encoder = ConvEncoder(input_size, enc_channels)\n",
    "decoder = ConvDecoder(encoder.output_dim, dec_channels, input_size, apply_sigmoid=True)\n",
    "\n",
    "param_dict = torch.load('runs/simple_mse_1000n_700ep_e-4lr/model_state.pt')\n",
    "encoder.load_state_dict(param_dict['encoder'])\n",
    "print encoder.output_dim\n",
    "decoder.load_state_dict(param_dict['decoder'])"
   ]
  },
  {
   "cell_type": "code",
   "execution_count": 6,
   "metadata": {
    "collapsed": true
   },
   "outputs": [],
   "source": [
    "encoded_train = encoder(Variable(torch.FloatTensor(dataset))).data.numpy()\n",
    "mean = np.mean(encoded_train, axis=0)\n",
    "cov = np.cov(encoded_train, rowvar=False)"
   ]
  },
  {
   "cell_type": "code",
   "execution_count": 7,
   "metadata": {
    "collapsed": false
   },
   "outputs": [
    {
     "data": {
      "image/png": "[encoded data removed]",
      "text/plain": [
       "<matplotlib.figure.Figure at 0x11c9c9b50>"
      ]
     },
     "metadata": {},
     "output_type": "display_data"
    },
    {
     "data": {
      "image/png": "[encoded data removed]",
      "text/plain": [
       "<matplotlib.figure.Figure at 0x11f024590>"
      ]
     },
     "metadata": {},
     "output_type": "display_data"
    }
   ],
   "source": [
    "samples = np.random.multivariate_normal(mean, cov, 16)\n",
    "decoded_samples = decoder(Variable(torch.FloatTensor(samples)))\n",
    "decoded_song = decoded_samples.view(train[:16].shape).data.numpy()\n",
    "decoded_song_array = np.concatenate(decoded_song[:, 0, :, :], axis=1)\n",
    "\n",
    "plt.imshow(decoded_song_array, aspect=\"auto\")\n",
    "plt.show()\n",
    "\n",
    "normalized_dsa = np.round(decoded_song_array/np.max(decoded_song_array))\n",
    "plt.imshow(normalized_dsa, aspect=\"auto\")\n",
    "plt.show()\n",
    "\n",
    "midi_array = np.zeros((128, 100*16))\n",
    "midi_array[MIDI_LOW:MIDI_HIGH] = np.round(decoded_song_array)\n",
    "outmidi = pr2pm(midi_array.round())\n",
    "outmidi.write('generated_midi.mid')"
   ]
  },
  {
   "cell_type": "code",
   "execution_count": null,
   "metadata": {
    "collapsed": true
   },
   "outputs": [],
   "source": []
  }
 ],
 "metadata": {
  "kernelspec": {
   "display_name": "Python 2",
   "language": "python",
   "name": "python2"
  },
  "language_info": {
   "codemirror_mode": {
    "name": "ipython",
    "version": 2
   },
   "file_extension": ".py",
   "mimetype": "text/x-python",
   "name": "python",
   "nbconvert_exporter": "python",
   "pygments_lexer": "ipython2",
   "version": "2.7.13"
  }
 },
 "nbformat": 4,
 "nbformat_minor": 0
}
