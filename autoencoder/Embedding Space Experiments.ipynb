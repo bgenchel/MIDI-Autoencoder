{
 "cells": [
  {
   "cell_type": "code",
   "execution_count": null,
   "metadata": {
    "collapsed": true
   },
   "outputs": [],
   "source": [
    "import numpy as np\n",
    "import pickle\n"
   ]
  },
  {
   "cell_type": "code",
   "execution_count": null,
   "metadata": {
    "collapsed": true
   },
   "outputs": [],
   "source": [
    "MIDI_LOW = 48\n",
    "MIDI_HIGH = 84\n",
    "\n",
    "dataset = pickle.load(open('../data/mh-midi-data.pickle', 'rb'))\n",
    "######## divide into train, validation, and test ########\n",
    "# based on the mean and standard deviation of non zero entries in the data, I've\n",
    "# found that the most populous, and thus best range of notes to take is from\n",
    "# 48 to 84 (C2 - C5); this is 3 octaves\n",
    "dataset = dataset[:, :, MIDI_LOW:MIDI_HIGH, :]\n",
    "\n",
    "train = dataset[:int(len(dataset)*0.8)]\n",
    "train_dataloader = MHDataLoader(train, args.dataset_size)\n",
    "batched_train = train_dataloader.get_batched_data(args.batch_size)\n",
    "\n",
    "valid = dataset[int(len(dataset)*0.8):int(len(dataset)*0.9)]\n",
    "valid_dataloader = MHDataLoader(valid, int(0.1*args.dataset_size))\n",
    "batched_valid = valid_dataloader.get_batched_data(args.batch_size)\n",
    "\n",
    "test = dataset[int(len(dataset)*0.9):]\n",
    "test_dataloader = MHDataLoader(test, int(0.1*args.dataset_size))\n",
    "batched_test = test_dataloader.get_batched_data(args.batch_size)\n",
    "##############################\n"
   ]
  }
 ],
 "metadata": {
  "kernelspec": {
   "display_name": "Python 2",
   "language": "python",
   "name": "python2"
  },
  "language_info": {
   "codemirror_mode": {
    "name": "ipython",
    "version": 2
   },
   "file_extension": ".py",
   "mimetype": "text/x-python",
   "name": "python",
   "nbconvert_exporter": "python",
   "pygments_lexer": "ipython2",
   "version": "2.7.13"
  }
 },
 "nbformat": 4,
 "nbformat_minor": 0
}
